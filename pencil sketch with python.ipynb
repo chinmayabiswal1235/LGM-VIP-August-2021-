{
 "cells": [
  {
   "cell_type": "markdown",
   "metadata": {},
   "source": [
    "# LETS GROW MORE\n",
    "\n",
    "**Name - Chinmaya Biswal**\n",
    "\n",
    "**Data Science Intern**\n",
    "\n",
    "Task 4 - Image To Pencil Sketch with Python\n",
    "\n",
    "Description Of Task -\n",
    "\n",
    "we need to read the image in RGB format and then convert it into grayscale image. This will turn it into a classic black and white image. Then the next thing to do is invert the grayscale image also called negative image, this will be our inverted grayscale image. Inversion can be used to enhance details. Then we can finally create the pencil sketch by mixing the grayscale image with the inverted blurry image. This can be done by dividing the grayscale image by the inverted blurry image."
   ]
  },
  {
   "cell_type": "markdown",
   "metadata": {},
   "source": [
    "**Import Library**"
   ]
  },
  {
   "cell_type": "code",
   "execution_count": 11,
   "metadata": {},
   "outputs": [],
   "source": [
    "import cv2"
   ]
  },
  {
   "cell_type": "markdown",
   "metadata": {},
   "source": [
    "**Read Image**"
   ]
  },
  {
   "cell_type": "code",
   "execution_count": 12,
   "metadata": {},
   "outputs": [],
   "source": [
    "image = cv2.imread(\"DSC_4808-01-min.jpeg\")"
   ]
  },
  {
   "cell_type": "markdown",
   "metadata": {},
   "source": [
    "**Display Image**"
   ]
  },
  {
   "cell_type": "code",
   "execution_count": 13,
   "metadata": {},
   "outputs": [
    {
     "data": {
      "text/plain": [
       "-1"
      ]
     },
     "execution_count": 13,
     "metadata": {},
     "output_type": "execute_result"
    }
   ],
   "source": [
    "cv2.namedWindow(\"Img\", cv2.WINDOW_NORMAL)\n",
    "imS = cv2.resize(image, (960, 540))            \n",
    "cv2.imshow(\"Img\", image)\n",
    "cv2.waitKey(0)          "
   ]
  },
  {
   "cell_type": "markdown",
   "metadata": {},
   "source": [
    "**Read Image in RGB format**"
   ]
  },
  {
   "cell_type": "code",
   "execution_count": 14,
   "metadata": {},
   "outputs": [
    {
     "data": {
      "text/plain": [
       "-1"
      ]
     },
     "execution_count": 14,
     "metadata": {},
     "output_type": "execute_result"
    }
   ],
   "source": [
    "import matplotlib.pyplot as plt\n",
    "%matplotlib inline\n",
    "img_rgb = cv2.cvtColor(image, cv2.COLOR_BGR2RGB)\n",
    "cv2.namedWindow(\"Img1\", cv2.WINDOW_NORMAL)\n",
    "imS = cv2.resize(img_rgb, (960, 540))            \n",
    "cv2.imshow(\"Img1\", img_rgb)\n",
    "cv2.waitKey(0)  "
   ]
  },
  {
   "cell_type": "markdown",
   "metadata": {},
   "source": [
    "**Creating a new image by converting the original image to grayscale image**"
   ]
  },
  {
   "cell_type": "code",
   "execution_count": 15,
   "metadata": {},
   "outputs": [
    {
     "data": {
      "text/plain": [
       "-1"
      ]
     },
     "execution_count": 15,
     "metadata": {},
     "output_type": "execute_result"
    }
   ],
   "source": [
    "gray_image = cv2.cvtColor(image, cv2.COLOR_BGR2GRAY)\n",
    "cv2.namedWindow(\"Img2\", cv2.WINDOW_NORMAL)\n",
    "imS = cv2.resize(gray_image, (960, 540))            \n",
    "cv2.imshow(\"Img2\", gray_image)\n",
    "cv2.waitKey(0)  "
   ]
  },
  {
   "cell_type": "markdown",
   "metadata": {},
   "source": [
    "**Inverting the grayscale image**"
   ]
  },
  {
   "cell_type": "code",
   "execution_count": 16,
   "metadata": {},
   "outputs": [
    {
     "data": {
      "text/plain": [
       "-1"
      ]
     },
     "execution_count": 16,
     "metadata": {},
     "output_type": "execute_result"
    }
   ],
   "source": [
    "inverted_image = 255 - gray_image\n",
    "#plt.imshow(inverted_image)\n",
    "cv2.namedWindow(\"Img3\", cv2.WINDOW_NORMAL)\n",
    "imS = cv2.resize(inverted_image, (960, 540))            \n",
    "cv2.imshow(\"Img3\", inverted_image)\n",
    "cv2.waitKey(0)            "
   ]
  },
  {
   "cell_type": "markdown",
   "metadata": {},
   "source": [
    "**Blur the inverted image by the Gaussian Function**"
   ]
  },
  {
   "cell_type": "code",
   "execution_count": 17,
   "metadata": {},
   "outputs": [
    {
     "data": {
      "text/plain": [
       "-1"
      ]
     },
     "execution_count": 17,
     "metadata": {},
     "output_type": "execute_result"
    }
   ],
   "source": [
    "blurred = cv2.GaussianBlur(inverted_image, (21, 21), 0)\n",
    "#plt.imshow(blurred)\n",
    "cv2.namedWindow(\"Img4\", cv2.WINDOW_NORMAL)\n",
    "imS = cv2.resize(blurred, (960, 540))            \n",
    "cv2.imshow(\"Img4\", blurred)\n",
    "cv2.waitKey(0)            "
   ]
  },
  {
   "cell_type": "markdown",
   "metadata": {},
   "source": [
    "**Invert the blurred image to pencil sketch**"
   ]
  },
  {
   "cell_type": "code",
   "execution_count": 18,
   "metadata": {},
   "outputs": [
    {
     "data": {
      "text/plain": [
       "-1"
      ]
     },
     "execution_count": 18,
     "metadata": {},
     "output_type": "execute_result"
    }
   ],
   "source": [
    "inverted_blur = 255 - blurred\n",
    "pencil_sketch = cv2.divide(gray_image, inverted_blur, scale = 256.0)\n",
    "cv2.namedWindow(\"Image\", cv2.WINDOW_NORMAL)\n",
    "imS = cv2.resize(pencil_sketch, (960, 540))            \n",
    "cv2.imshow(\"Image\", pencil_sketch)\n",
    "cv2.waitKey(0)            "
   ]
  },
  {
   "cell_type": "markdown",
   "metadata": {},
   "source": [
    "**Original image and the pencil sketch**"
   ]
  },
  {
   "cell_type": "code",
   "execution_count": 19,
   "metadata": {},
   "outputs": [
    {
     "data": {
      "text/plain": [
       "-1"
      ]
     },
     "execution_count": 19,
     "metadata": {},
     "output_type": "execute_result"
    }
   ],
   "source": [
    "#plt.imshow(img_rgb)\n",
    "cv2.namedWindow(\"Img5\", cv2.WINDOW_NORMAL)\n",
    "imS = cv2.resize(pencil_sketch, (960, 540))            \n",
    "cv2.imshow(\"Img5\", pencil_sketch)\n",
    "\n",
    "cv2.namedWindow(\"Img6\", cv2.WINDOW_NORMAL)\n",
    "imS1 = cv2.resize(image, (960, 540))            \n",
    "cv2.imshow(\"Img6\", image)\n",
    "cv2.waitKey(0)            "
   ]
  },
  {
   "cell_type": "markdown",
   "metadata": {},
   "source": [
    "**Thank You**"
   ]
  },
  {
   "cell_type": "code",
   "execution_count": null,
   "metadata": {},
   "outputs": [],
   "source": []
  },
  {
   "cell_type": "code",
   "execution_count": null,
   "metadata": {},
   "outputs": [],
   "source": []
  },
  {
   "cell_type": "code",
   "execution_count": null,
   "metadata": {},
   "outputs": [],
   "source": []
  },
  {
   "cell_type": "code",
   "execution_count": null,
   "metadata": {},
   "outputs": [],
   "source": []
  }
 ],
 "metadata": {
  "kernelspec": {
   "display_name": "Python 3",
   "language": "python",
   "name": "python3"
  },
  "language_info": {
   "codemirror_mode": {
    "name": "ipython",
    "version": 3
   },
   "file_extension": ".py",
   "mimetype": "text/x-python",
   "name": "python",
   "nbconvert_exporter": "python",
   "pygments_lexer": "ipython3",
   "version": "3.7.5"
  }
 },
 "nbformat": 4,
 "nbformat_minor": 4
}
